{
  "nbformat": 4,
  "nbformat_minor": 0,
  "metadata": {
    "colab": {
      "name": "Mini-lab.ipynb",
      "provenance": [],
      "collapsed_sections": [],
      "authorship_tag": "ABX9TyNe4I5EGTfkiZmWDiertrj6",
      "include_colab_link": true
    },
    "kernelspec": {
      "name": "python3",
      "display_name": "Python 3"
    },
    "language_info": {
      "name": "python"
    }
  },
  "cells": [
    {
      "cell_type": "markdown",
      "metadata": {
        "id": "view-in-github",
        "colab_type": "text"
      },
      "source": [
        "<a href=\"https://colab.research.google.com/github/claire-dickerson/guestlecture/blob/main/Mini_lab.ipynb\" target=\"_parent\"><img src=\"https://colab.research.google.com/assets/colab-badge.svg\" alt=\"Open In Colab\"/></a>"
      ]
    },
    {
      "cell_type": "markdown",
      "source": [
        "# Sentence embeddings\n",
        "\n",
        "After the advent of BERT, the infamous contextualized word embedding that you've already learned about, came the creation of numerous other BERT-style models. One of these models is SBERT (sentence BERT), which leverages the BERT architecture to create semantically meaningful sentence embeddings that can be mathematically compared in a vector space. \n",
        "\n",
        "In this mini-lab, you will get to play around with some of the functions SBERT can be used for, including clustering and topic modeling.\n",
        "\n",
        "This mini-lab is set up to work with English, but if you're feeling ambitious you can experiment with other languages. Multilingual models exist for at least 50 languages, and you can look through the [Hugging Face hub](https://huggingface.co/models) to see what monolingual models exist for other languages."
      ],
      "metadata": {
        "id": "43_G4EADj3Iq"
      }
    },
    {
      "cell_type": "code",
      "execution_count": 1,
      "metadata": {
        "id": "vvLJpcy2AKBk",
        "colab": {
          "base_uri": "https://localhost:8080/"
        },
        "outputId": "1e027899-e7a2-4980-cfe2-e1b5de8fca2e"
      },
      "outputs": [
        {
          "output_type": "stream",
          "name": "stdout",
          "text": [
            "Requirement already satisfied: sentence-transformers in /usr/local/lib/python3.7/dist-packages (2.2.0)\n",
            "Requirement already satisfied: tqdm in /usr/local/lib/python3.7/dist-packages (from sentence-transformers) (4.64.0)\n",
            "Requirement already satisfied: sentencepiece in /usr/local/lib/python3.7/dist-packages (from sentence-transformers) (0.1.96)\n",
            "Requirement already satisfied: torch>=1.6.0 in /usr/local/lib/python3.7/dist-packages (from sentence-transformers) (1.11.0+cu113)\n",
            "Requirement already satisfied: transformers<5.0.0,>=4.6.0 in /usr/local/lib/python3.7/dist-packages (from sentence-transformers) (4.19.2)\n",
            "Requirement already satisfied: huggingface-hub in /usr/local/lib/python3.7/dist-packages (from sentence-transformers) (0.6.0)\n",
            "Requirement already satisfied: scikit-learn in /usr/local/lib/python3.7/dist-packages (from sentence-transformers) (1.0.2)\n",
            "Requirement already satisfied: nltk in /usr/local/lib/python3.7/dist-packages (from sentence-transformers) (3.2.5)\n",
            "Requirement already satisfied: numpy in /usr/local/lib/python3.7/dist-packages (from sentence-transformers) (1.21.6)\n",
            "Requirement already satisfied: scipy in /usr/local/lib/python3.7/dist-packages (from sentence-transformers) (1.4.1)\n",
            "Requirement already satisfied: torchvision in /usr/local/lib/python3.7/dist-packages (from sentence-transformers) (0.12.0+cu113)\n",
            "Requirement already satisfied: typing-extensions in /usr/local/lib/python3.7/dist-packages (from torch>=1.6.0->sentence-transformers) (4.2.0)\n",
            "Requirement already satisfied: packaging>=20.0 in /usr/local/lib/python3.7/dist-packages (from transformers<5.0.0,>=4.6.0->sentence-transformers) (21.3)\n",
            "Requirement already satisfied: regex!=2019.12.17 in /usr/local/lib/python3.7/dist-packages (from transformers<5.0.0,>=4.6.0->sentence-transformers) (2019.12.20)\n",
            "Requirement already satisfied: requests in /usr/local/lib/python3.7/dist-packages (from transformers<5.0.0,>=4.6.0->sentence-transformers) (2.23.0)\n",
            "Requirement already satisfied: importlib-metadata in /usr/local/lib/python3.7/dist-packages (from transformers<5.0.0,>=4.6.0->sentence-transformers) (4.11.3)\n",
            "Requirement already satisfied: pyyaml>=5.1 in /usr/local/lib/python3.7/dist-packages (from transformers<5.0.0,>=4.6.0->sentence-transformers) (6.0)\n",
            "Requirement already satisfied: tokenizers!=0.11.3,<0.13,>=0.11.1 in /usr/local/lib/python3.7/dist-packages (from transformers<5.0.0,>=4.6.0->sentence-transformers) (0.12.1)\n",
            "Requirement already satisfied: filelock in /usr/local/lib/python3.7/dist-packages (from transformers<5.0.0,>=4.6.0->sentence-transformers) (3.7.0)\n",
            "Requirement already satisfied: pyparsing!=3.0.5,>=2.0.2 in /usr/local/lib/python3.7/dist-packages (from packaging>=20.0->transformers<5.0.0,>=4.6.0->sentence-transformers) (3.0.9)\n",
            "Requirement already satisfied: zipp>=0.5 in /usr/local/lib/python3.7/dist-packages (from importlib-metadata->transformers<5.0.0,>=4.6.0->sentence-transformers) (3.8.0)\n",
            "Requirement already satisfied: six in /usr/local/lib/python3.7/dist-packages (from nltk->sentence-transformers) (1.15.0)\n",
            "Requirement already satisfied: urllib3!=1.25.0,!=1.25.1,<1.26,>=1.21.1 in /usr/local/lib/python3.7/dist-packages (from requests->transformers<5.0.0,>=4.6.0->sentence-transformers) (1.24.3)\n",
            "Requirement already satisfied: chardet<4,>=3.0.2 in /usr/local/lib/python3.7/dist-packages (from requests->transformers<5.0.0,>=4.6.0->sentence-transformers) (3.0.4)\n",
            "Requirement already satisfied: idna<3,>=2.5 in /usr/local/lib/python3.7/dist-packages (from requests->transformers<5.0.0,>=4.6.0->sentence-transformers) (2.10)\n",
            "Requirement already satisfied: certifi>=2017.4.17 in /usr/local/lib/python3.7/dist-packages (from requests->transformers<5.0.0,>=4.6.0->sentence-transformers) (2021.10.8)\n",
            "Requirement already satisfied: joblib>=0.11 in /usr/local/lib/python3.7/dist-packages (from scikit-learn->sentence-transformers) (1.1.0)\n",
            "Requirement already satisfied: threadpoolctl>=2.0.0 in /usr/local/lib/python3.7/dist-packages (from scikit-learn->sentence-transformers) (3.1.0)\n",
            "Requirement already satisfied: pillow!=8.3.*,>=5.3.0 in /usr/local/lib/python3.7/dist-packages (from torchvision->sentence-transformers) (7.1.2)\n"
          ]
        }
      ],
      "source": [
        "!pip install -U sentence-transformers"
      ]
    },
    {
      "cell_type": "markdown",
      "source": [
        "## Generate sentence embeddings"
      ],
      "metadata": {
        "id": "7KDDo28bsY6V"
      }
    },
    {
      "cell_type": "code",
      "source": [
        "from sentence_transformers import SentenceTransformer\n",
        "model = SentenceTransformer('distiluse-base-multilingual-cased-v2')\n",
        "\n",
        "# Sentences to encode\n",
        "sentences = ['Here you can include sentences to embed.',\n",
        "    'Se pueden escribir las oraciones en casi cualquier idioma.',\n",
        "    'Men kom ihåg att hålla listan någorlunda kort.']\n",
        "\n",
        "# Generate sentence embeddings\n",
        "embeddings = model.encode(sentences, convert_to_tensor=True)\n",
        "\n",
        "# Print the embeddings\n",
        "for sentence, embedding in zip(sentences, embeddings):\n",
        "    print(\"Sentence:\", sentence)\n",
        "    print(\"Embedding:\", embedding)\n",
        "    print()"
      ],
      "metadata": {
        "colab": {
          "base_uri": "https://localhost:8080/"
        },
        "id": "j3DGzOTrwFob",
        "outputId": "769702ba-c9b3-4dd4-97b7-e305a248c956"
      },
      "execution_count": 2,
      "outputs": [
        {
          "output_type": "stream",
          "name": "stdout",
          "text": [
            "Sentence: Here you can include sentences to embed.\n",
            "Embedding: tensor([-0.0730, -0.0507, -0.0590,  0.0629, -0.1447, -0.0384,  0.0336, -0.0064,\n",
            "        -0.0468, -0.0076, -0.0613, -0.0690,  0.0471, -0.0091, -0.0138, -0.0589,\n",
            "        -0.0510, -0.0131, -0.0032,  0.0036, -0.0351, -0.0218,  0.0172, -0.0147,\n",
            "        -0.0083, -0.0130, -0.0387, -0.0493,  0.0050,  0.0573, -0.1114,  0.0559,\n",
            "         0.0192, -0.0752,  0.0114, -0.0343,  0.0053,  0.0249, -0.0082,  0.0449,\n",
            "        -0.0141,  0.0099, -0.0039, -0.0131, -0.0336,  0.0174,  0.0288, -0.0151,\n",
            "         0.0142,  0.0264, -0.0645, -0.0353,  0.0457,  0.0866, -0.0268,  0.0526,\n",
            "         0.0218, -0.0703,  0.0212, -0.0092, -0.0188, -0.0090,  0.0225, -0.0149,\n",
            "        -0.0174,  0.0320,  0.0254, -0.0020,  0.0085, -0.0091,  0.0261,  0.0497,\n",
            "        -0.0066,  0.0376, -0.0894,  0.0095, -0.0098, -0.0125,  0.0217,  0.1003,\n",
            "         0.0540, -0.0465, -0.0178,  0.0361,  0.0639,  0.0262, -0.0070,  0.0065,\n",
            "         0.0105, -0.0098, -0.0090, -0.0367,  0.0887,  0.0117,  0.0800, -0.0138,\n",
            "         0.0061,  0.0033,  0.0004,  0.0377,  0.0089, -0.0154, -0.0300, -0.0561,\n",
            "        -0.0139, -0.0520, -0.0113, -0.0354,  0.0423,  0.0125,  0.0912, -0.0390,\n",
            "        -0.0145,  0.0519, -0.0739,  0.0524, -0.0052, -0.0249, -0.0775,  0.0076,\n",
            "        -0.0165,  0.0015, -0.0117,  0.0527,  0.0043, -0.0083, -0.0598,  0.0055,\n",
            "        -0.0355,  0.0085,  0.0389,  0.0660,  0.0396,  0.0480,  0.0593, -0.0308,\n",
            "        -0.0008, -0.0401,  0.0073,  0.0343,  0.0163,  0.0533,  0.0126, -0.0438,\n",
            "         0.0043,  0.0352,  0.0217, -0.0226, -0.0450, -0.0406,  0.0264, -0.0499,\n",
            "        -0.0398, -0.0346,  0.0537,  0.0401,  0.0370, -0.0195, -0.0008,  0.0087,\n",
            "        -0.0300,  0.1341,  0.0056,  0.0568,  0.0091, -0.0154, -0.0243, -0.0340,\n",
            "        -0.0330, -0.0108, -0.0371,  0.0309, -0.0138, -0.0095, -0.0008,  0.0719,\n",
            "        -0.0842, -0.0305, -0.0230, -0.0210, -0.0222,  0.0002,  0.0354, -0.0789,\n",
            "        -0.0279, -0.0013,  0.0598,  0.0017,  0.0368,  0.0392, -0.0663,  0.0106,\n",
            "         0.0118, -0.0076, -0.0064, -0.0383,  0.0685,  0.0189,  0.0240, -0.0244,\n",
            "        -0.0451,  0.0115, -0.0165, -0.0446, -0.0225, -0.0069, -0.0443,  0.0358,\n",
            "         0.0260, -0.0784,  0.0159, -0.0296,  0.0023, -0.0180, -0.0366, -0.0518,\n",
            "        -0.0721, -0.0005,  0.0232, -0.0406,  0.0300,  0.0173, -0.0429,  0.0151,\n",
            "        -0.0372, -0.0609, -0.0148,  0.0291,  0.0296,  0.1238, -0.0038,  0.0335,\n",
            "         0.0465,  0.0622, -0.0116, -0.0365, -0.0007,  0.0157, -0.0170,  0.0573,\n",
            "         0.0155,  0.0157, -0.0164,  0.0260, -0.0511,  0.0081, -0.0151, -0.1010,\n",
            "        -0.0292, -0.0456, -0.0365, -0.0489, -0.0299,  0.0212,  0.0404, -0.0628,\n",
            "         0.0092, -0.0247,  0.0629, -0.0400, -0.0489,  0.0258,  0.0119, -0.0011,\n",
            "         0.0534, -0.0153, -0.0059, -0.0512,  0.0041, -0.0072, -0.0032, -0.0463,\n",
            "        -0.0057,  0.0391, -0.0425, -0.0595, -0.0183,  0.0313,  0.0079,  0.0029,\n",
            "         0.0100, -0.0206, -0.0504,  0.0526, -0.0423, -0.0420,  0.0167, -0.0330,\n",
            "        -0.0145,  0.0534, -0.0633,  0.0013, -0.0727,  0.0695,  0.0179, -0.1187,\n",
            "         0.0498, -0.0102,  0.0006, -0.0956,  0.0170,  0.0299, -0.0374, -0.0542,\n",
            "         0.0218,  0.0101, -0.0369, -0.0157,  0.0315,  0.0541,  0.0903, -0.0228,\n",
            "        -0.0073,  0.0387, -0.0082, -0.0631,  0.0008,  0.0111, -0.0025, -0.0100,\n",
            "        -0.0417, -0.0987,  0.0008,  0.0149,  0.1105,  0.0240,  0.0062,  0.0332,\n",
            "        -0.0330,  0.0111, -0.1271,  0.0458, -0.0387, -0.0569,  0.0554,  0.0194,\n",
            "        -0.0396, -0.0518,  0.0466,  0.0464, -0.0934, -0.0051,  0.0090, -0.0371,\n",
            "        -0.0088, -0.0491,  0.0041, -0.0457,  0.0298, -0.0746,  0.0159,  0.0057,\n",
            "         0.0420, -0.0194, -0.0308, -0.0348,  0.0397,  0.0414, -0.0266,  0.0297,\n",
            "         0.0539, -0.0012, -0.0611, -0.0122,  0.0101,  0.0310,  0.0376, -0.0475,\n",
            "         0.0435,  0.0015, -0.0209, -0.0304, -0.0677,  0.0784,  0.0046,  0.0192,\n",
            "        -0.0197, -0.0624,  0.0144,  0.0659, -0.0096, -0.0538, -0.0055, -0.0393,\n",
            "         0.0999,  0.0175,  0.0555,  0.0159, -0.0389, -0.0177, -0.0256,  0.0228,\n",
            "        -0.0200, -0.1142, -0.1093, -0.0380,  0.0059, -0.0152, -0.0005,  0.0119,\n",
            "         0.0804, -0.0720, -0.0648,  0.0504,  0.0142,  0.0521,  0.0529, -0.0089,\n",
            "        -0.0348,  0.0053, -0.0371, -0.0038, -0.1468,  0.0218,  0.0350,  0.0178,\n",
            "         0.0645,  0.0341, -0.0189,  0.0066,  0.0106, -0.0077,  0.0033, -0.0386,\n",
            "         0.0422, -0.0150, -0.0682, -0.0152,  0.0547,  0.0401,  0.0468,  0.0319,\n",
            "         0.0100,  0.0254, -0.0124, -0.0081,  0.0638,  0.0441, -0.0185, -0.0054,\n",
            "        -0.0074,  0.0561,  0.0103,  0.0914,  0.0278,  0.0297, -0.0388,  0.0316,\n",
            "         0.0175,  0.0568,  0.0006,  0.0257,  0.0146, -0.0170, -0.0477, -0.0111,\n",
            "         0.0648, -0.0273, -0.0045,  0.0834, -0.0107,  0.0470,  0.0625, -0.0717,\n",
            "         0.0345,  0.1228,  0.0327,  0.0358, -0.0090,  0.0469,  0.0097,  0.0591,\n",
            "        -0.0841,  0.0046,  0.0397,  0.0081,  0.0026, -0.0340, -0.0627,  0.0100,\n",
            "         0.0306,  0.0355,  0.0127,  0.0111, -0.0618, -0.0067,  0.0209, -0.0126,\n",
            "         0.0070,  0.0319, -0.0002, -0.0748,  0.0023, -0.0359, -0.0224, -0.0189,\n",
            "        -0.0561, -0.0351,  0.0040,  0.0186, -0.0460,  0.0041, -0.0730, -0.0097,\n",
            "        -0.0136,  0.0109,  0.0063,  0.0092, -0.0054,  0.0362,  0.0138, -0.0234])\n",
            "\n",
            "Sentence: Se pueden escribir las oraciones en casi cualquier idioma.\n",
            "Embedding: tensor([ 1.9435e-02, -2.7711e-03, -3.4683e-02, -1.6559e-03, -5.7456e-02,\n",
            "        -2.4973e-02, -9.0593e-02,  2.3405e-02,  2.1891e-02,  3.1259e-02,\n",
            "        -3.5762e-02, -8.3826e-03, -1.1784e-02, -1.3500e-02, -4.5556e-03,\n",
            "        -9.0007e-02,  6.0210e-03,  4.6728e-02,  6.8369e-02,  4.8556e-02,\n",
            "         1.8596e-03,  5.5873e-02,  7.3059e-02, -1.0329e-01, -1.9831e-02,\n",
            "        -5.0172e-02,  5.6632e-02,  3.6458e-03, -5.8208e-02,  4.1717e-02,\n",
            "        -5.8546e-03,  4.3942e-02, -4.2470e-02,  2.1432e-03,  4.2729e-02,\n",
            "        -5.4337e-02,  2.6953e-03,  7.4709e-02, -2.8204e-02, -2.1659e-02,\n",
            "        -4.4482e-02,  2.4175e-02, -6.3469e-03, -3.0623e-02, -5.1440e-02,\n",
            "         1.3955e-02,  2.3353e-02, -1.6856e-02,  6.7413e-02, -6.8177e-02,\n",
            "        -7.8749e-02,  1.6408e-02,  6.9910e-02,  2.9979e-02, -3.6207e-02,\n",
            "         3.7424e-02, -6.5683e-03, -2.8966e-02, -8.8375e-03, -1.4945e-02,\n",
            "        -7.2019e-02, -2.6854e-02,  2.7238e-02,  2.4531e-02,  1.0546e-02,\n",
            "         4.9715e-02,  4.4117e-03,  5.9056e-03, -2.5685e-02,  2.0745e-04,\n",
            "        -3.1031e-02,  4.5162e-02,  1.2171e-02, -3.8699e-02, -3.8552e-02,\n",
            "         1.4886e-02,  1.9172e-03,  2.7385e-02,  5.9373e-02,  2.5996e-02,\n",
            "         2.2410e-03, -1.6127e-02,  1.9467e-02,  6.8281e-03,  1.4154e-02,\n",
            "        -2.2543e-02, -2.1250e-03,  2.2063e-02,  3.6159e-03, -1.1672e-02,\n",
            "        -1.9756e-02, -3.5890e-03,  3.7663e-03, -2.4464e-02,  1.8480e-02,\n",
            "        -4.7817e-02,  2.3215e-02,  6.6390e-02, -5.5231e-02,  3.0653e-03,\n",
            "        -4.0414e-02,  1.4653e-02,  1.7508e-02,  2.3909e-02,  1.4250e-02,\n",
            "        -2.1865e-02, -7.6727e-03, -3.0666e-02, -1.3307e-03, -1.4933e-02,\n",
            "         1.0785e-02, -3.7672e-02,  3.8134e-02,  1.3405e-03, -3.8618e-02,\n",
            "         1.2908e-02,  1.3913e-02,  5.1150e-03, -9.5661e-02, -1.8724e-02,\n",
            "        -2.2220e-02, -7.9785e-02,  2.5535e-02,  2.7978e-02,  6.1929e-02,\n",
            "        -2.5589e-02, -1.7409e-04,  1.0916e-01, -3.3123e-02, -6.4981e-02,\n",
            "        -7.5678e-03,  6.4970e-02, -6.7919e-02, -7.1239e-03,  7.5639e-02,\n",
            "        -1.5917e-02, -1.6650e-02, -1.2210e-01, -7.1707e-03,  5.9362e-02,\n",
            "        -3.6230e-03, -2.4522e-02, -2.9578e-02,  6.2994e-02, -9.0013e-03,\n",
            "         2.5289e-02,  3.4178e-02, -6.9933e-02,  2.7358e-02, -1.5844e-02,\n",
            "        -4.9062e-02, -4.2042e-02, -2.2540e-02, -1.9899e-02,  6.6669e-03,\n",
            "         5.5502e-02, -2.9324e-02, -7.6190e-02,  9.1098e-04,  9.0496e-02,\n",
            "         1.4089e-02, -7.0197e-02,  3.9155e-02,  3.1486e-02, -3.6871e-02,\n",
            "        -3.2013e-02,  5.0855e-02, -4.2901e-02,  5.4542e-03, -3.4037e-02,\n",
            "        -6.3633e-03,  4.0388e-02,  8.3245e-02, -1.9951e-02,  4.8223e-02,\n",
            "         3.1223e-02,  2.3872e-02,  4.8431e-04, -2.2616e-02,  8.0995e-03,\n",
            "         2.3808e-02,  3.4573e-03,  1.8482e-02, -2.6235e-02, -3.5562e-02,\n",
            "        -1.7532e-02,  2.6380e-03,  4.9981e-03,  9.6477e-03, -3.6216e-02,\n",
            "        -5.9485e-02,  3.0864e-03,  2.8568e-02,  5.0966e-03, -9.3714e-04,\n",
            "        -3.3481e-02,  5.6313e-02,  3.0560e-02,  4.2795e-03,  4.7692e-02,\n",
            "        -1.4702e-02,  1.7122e-02, -8.7044e-03, -2.2221e-02, -2.1444e-02,\n",
            "         9.3822e-03,  5.5201e-03,  8.6678e-03,  3.1735e-02, -5.4303e-02,\n",
            "         4.9961e-02, -2.0953e-03, -2.1766e-03, -2.5903e-02, -5.1716e-02,\n",
            "        -1.4693e-02, -1.1898e-01, -9.2311e-03, -5.2573e-02,  4.5069e-02,\n",
            "        -5.2265e-02,  4.1211e-02, -6.0041e-02,  3.8074e-03,  9.2616e-02,\n",
            "        -2.0053e-02,  3.1508e-02, -1.3253e-02,  1.2596e-03,  7.4073e-03,\n",
            "         3.5294e-02,  3.4982e-02,  7.9558e-03,  2.4150e-02, -2.0728e-02,\n",
            "         1.7118e-03, -7.2374e-03,  1.5233e-02, -2.9857e-02,  3.2037e-02,\n",
            "         3.4304e-02, -7.7328e-03, -2.4403e-02,  3.8584e-02, -7.3265e-02,\n",
            "         3.5838e-02, -1.0025e-01,  7.0519e-02, -1.8611e-02, -5.0604e-03,\n",
            "         1.6870e-02,  6.1487e-02,  9.2969e-04,  1.7157e-02,  2.3569e-02,\n",
            "         9.3435e-04,  1.9786e-02, -2.8482e-02,  5.5780e-02, -3.0589e-02,\n",
            "        -1.5191e-04, -1.2956e-02, -2.4664e-02,  6.2508e-03, -5.8897e-03,\n",
            "        -8.9940e-03,  2.5720e-03, -1.1302e-01,  2.1741e-02,  8.1585e-03,\n",
            "        -2.6015e-02, -9.6254e-02, -3.4618e-03, -2.7726e-02, -3.3331e-02,\n",
            "        -7.7162e-02, -4.3572e-02, -3.0618e-02, -1.4633e-02,  1.6035e-02,\n",
            "        -3.2749e-02,  1.7538e-02, -4.9713e-02, -1.3019e-02,  4.9196e-02,\n",
            "        -4.5417e-02,  1.0970e-02, -1.6463e-02,  1.7159e-02,  3.7594e-02,\n",
            "        -6.7976e-02,  5.8416e-02,  2.4132e-02,  8.1265e-02, -5.0919e-03,\n",
            "         2.5738e-02,  3.0436e-03, -7.7835e-03, -5.2809e-02, -4.6726e-03,\n",
            "        -2.5226e-02,  4.0699e-02, -4.4759e-02, -9.1988e-03, -2.2770e-03,\n",
            "         6.8974e-03,  1.4709e-02, -1.1434e-02, -6.4832e-03,  5.6027e-02,\n",
            "         1.2227e-01, -5.8673e-02, -6.7044e-02,  1.6932e-02,  2.4806e-02,\n",
            "        -6.1431e-02, -6.1191e-02,  1.6471e-02,  4.4613e-02,  1.9462e-02,\n",
            "         2.8744e-02, -1.3100e-02,  1.8942e-02,  1.2644e-02,  4.1165e-02,\n",
            "         2.6334e-02, -4.6135e-02, -1.1430e-02,  3.6588e-02,  5.5388e-02,\n",
            "        -5.7205e-02, -5.1348e-02, -1.8993e-02,  1.5930e-02,  9.6817e-02,\n",
            "         1.2171e-02, -1.4762e-03, -1.6277e-02,  5.3298e-02, -3.9592e-02,\n",
            "        -1.0688e-01, -3.2085e-02,  1.8040e-03, -4.4040e-02,  2.0650e-02,\n",
            "        -3.8634e-02,  3.8936e-02,  1.3210e-02,  1.1055e-03, -2.0447e-02,\n",
            "         1.1391e-02,  6.1169e-02,  4.3706e-02,  3.5091e-02,  4.3856e-03,\n",
            "         2.2308e-02, -2.3546e-02,  2.3913e-02, -4.5153e-03,  7.1991e-02,\n",
            "         9.8989e-02, -9.9236e-03, -1.2317e-02,  8.4768e-03, -1.1833e-02,\n",
            "        -1.4736e-03,  3.6239e-02, -3.2716e-02,  9.7653e-03,  1.1119e-02,\n",
            "        -1.1238e-01,  7.8559e-03, -3.4056e-02,  5.8824e-02,  7.3939e-02,\n",
            "         7.6906e-03, -2.8836e-02,  4.5554e-02,  7.8846e-03,  2.3378e-02,\n",
            "        -4.5616e-02, -6.5401e-03,  3.0319e-02, -3.6124e-02,  1.0028e-01,\n",
            "        -7.5008e-04,  3.0259e-02,  4.7592e-02, -1.5161e-02, -4.2675e-02,\n",
            "         4.8600e-02,  7.5439e-03,  7.2708e-03, -2.7704e-02, -1.3605e-01,\n",
            "        -8.1476e-02,  1.4714e-02,  4.8234e-02, -5.6921e-02, -5.2189e-02,\n",
            "        -9.3365e-05,  2.4716e-02, -2.7057e-02, -3.6807e-02,  3.9737e-02,\n",
            "        -3.0261e-02,  6.6189e-02,  5.3194e-02, -1.1744e-02, -2.4364e-02,\n",
            "        -5.6201e-02, -5.4309e-02, -1.0790e-01, -1.9694e-02, -9.4983e-03,\n",
            "         3.2400e-02,  4.0587e-02, -5.4935e-03, -2.2235e-02,  4.0850e-02,\n",
            "        -2.0787e-03,  2.7082e-02, -3.9589e-02, -2.4095e-02, -7.4686e-02,\n",
            "         4.8771e-02, -4.4427e-03, -4.2190e-02,  2.2986e-02,  8.9068e-02,\n",
            "         5.5152e-02,  5.4220e-02,  3.8458e-03, -9.2691e-02, -3.4998e-03,\n",
            "        -1.5174e-02,  4.5797e-02, -3.0833e-02, -6.4176e-02, -3.2788e-02,\n",
            "         5.5623e-03,  4.8575e-02, -4.9211e-02,  3.7587e-02, -7.9037e-03,\n",
            "        -5.9813e-04, -2.7269e-02,  3.4340e-02,  8.4111e-03,  1.6926e-03,\n",
            "         5.8159e-03,  2.4722e-02, -6.0883e-03, -1.9940e-02, -3.5016e-02,\n",
            "         2.9259e-02, -2.6127e-04, -1.2871e-02,  1.1298e-02,  2.4342e-02,\n",
            "         7.6265e-03, -2.4498e-02,  2.9213e-02, -4.4821e-02,  7.5612e-03,\n",
            "         3.2287e-02,  6.1217e-03, -1.4256e-02,  1.9655e-02, -2.0051e-02,\n",
            "         5.8062e-02,  1.6312e-02, -7.5609e-02,  9.3077e-03,  1.0622e-02,\n",
            "        -4.5532e-02,  3.4551e-02, -1.1397e-02, -4.2113e-02, -1.4538e-02,\n",
            "        -3.6193e-02, -1.3348e-02, -4.7621e-02,  1.2875e-02,  1.2860e-02,\n",
            "         9.3655e-03,  7.6024e-03,  2.3514e-02,  9.6729e-03,  2.8227e-02,\n",
            "         2.2621e-02, -4.5083e-02,  4.4306e-02,  4.7384e-03, -1.4387e-02,\n",
            "         9.6036e-02,  2.5080e-02, -3.9455e-02, -3.5963e-03,  8.8179e-03,\n",
            "         2.4205e-03,  8.5272e-02, -9.8998e-02, -1.3998e-02, -4.1855e-02,\n",
            "         3.1317e-02,  2.8249e-02, -4.8713e-02,  3.1605e-03,  7.9030e-02,\n",
            "         3.6871e-02, -1.1491e-02])\n",
            "\n",
            "Sentence: Men kom ihåg att hålla listan någorlunda kort.\n",
            "Embedding: tensor([ 3.0981e-02,  1.3203e-02, -3.7098e-02,  5.1918e-02, -8.2842e-02,\n",
            "         5.2719e-03, -1.7659e-02, -1.9505e-02,  2.2322e-02, -1.7985e-02,\n",
            "        -6.6409e-02, -1.6921e-02, -6.5264e-03,  1.5127e-02, -5.0227e-02,\n",
            "         5.0369e-03, -1.6989e-03,  2.8900e-02, -4.9637e-02, -6.9754e-03,\n",
            "         1.1149e-02, -1.0852e-01,  8.2701e-03,  6.0411e-03,  3.4484e-02,\n",
            "         1.1772e-02, -3.9944e-03, -1.7282e-02, -3.3002e-02,  2.5769e-02,\n",
            "        -2.3400e-02,  3.7613e-02,  2.3552e-02,  6.9932e-03,  1.3898e-02,\n",
            "         3.0099e-02, -8.6940e-03, -5.5594e-02, -2.5393e-02,  2.7657e-02,\n",
            "        -2.1122e-02,  6.4221e-02,  2.5229e-03, -4.2988e-03, -4.0738e-02,\n",
            "         1.7742e-02, -3.2047e-02, -5.1014e-02,  6.2473e-02, -2.9061e-03,\n",
            "         1.7059e-02, -4.1045e-03, -1.6721e-02,  5.7868e-02, -3.0909e-03,\n",
            "        -1.2453e-02, -4.9052e-03,  3.1813e-02, -6.8287e-03, -5.8289e-02,\n",
            "         2.5641e-02,  1.3606e-02, -1.0090e-02,  8.0088e-03,  1.4468e-02,\n",
            "         7.4622e-03,  1.3070e-02,  2.3597e-02, -6.4369e-02,  2.3243e-04,\n",
            "        -1.2438e-02,  1.9188e-02,  1.6955e-02,  3.3897e-02, -8.2811e-03,\n",
            "         2.0401e-03, -1.5131e-04, -2.8955e-02,  1.2960e-02, -1.3539e-02,\n",
            "         4.4016e-02, -3.0814e-02,  1.8894e-02,  1.7090e-02,  8.3724e-03,\n",
            "        -3.9877e-02, -1.4586e-02, -3.0138e-02, -4.7823e-02, -5.7631e-02,\n",
            "         4.9990e-02,  4.2052e-03,  3.4368e-02,  7.3254e-04,  1.8053e-02,\n",
            "        -4.3659e-02,  3.9763e-03,  4.3796e-02, -4.4429e-02, -2.1804e-02,\n",
            "        -1.7225e-02,  1.9309e-02, -9.5392e-03, -3.4157e-02, -1.9658e-02,\n",
            "         2.6547e-02, -5.2020e-02,  1.1267e-01,  4.8509e-02,  1.7199e-02,\n",
            "         2.0524e-05, -2.3292e-02,  1.5990e-02,  4.2773e-02, -1.8638e-02,\n",
            "        -2.2571e-02, -1.0495e-02,  2.1777e-02, -6.6247e-02, -3.7906e-04,\n",
            "         1.2495e-02,  6.2719e-02,  1.0411e-02,  6.0601e-03,  4.3377e-02,\n",
            "         3.8157e-02, -3.5929e-02, -5.8199e-02,  1.1868e-02, -1.1401e-02,\n",
            "        -2.3971e-02,  2.7077e-02,  1.8762e-02,  4.2194e-02, -3.8859e-03,\n",
            "         8.2699e-03, -8.6180e-03, -6.5759e-02,  4.4032e-02,  1.6747e-02,\n",
            "         1.9234e-02, -1.7178e-03, -3.0242e-02, -1.0856e-02,  2.9109e-02,\n",
            "        -1.4478e-02,  3.9097e-02, -2.0153e-02, -1.3042e-02,  3.4052e-02,\n",
            "        -5.7893e-04, -8.6812e-02,  2.3704e-02, -1.5542e-02,  2.5219e-02,\n",
            "        -2.3053e-02,  7.2541e-02, -4.2389e-02,  2.9044e-02,  4.1591e-02,\n",
            "        -5.4736e-02,  4.4287e-02,  1.5443e-02, -6.8955e-03,  6.9954e-03,\n",
            "         1.5683e-02,  2.5060e-02, -5.8646e-02, -6.1419e-02, -2.5427e-03,\n",
            "        -5.2913e-02,  2.9682e-02,  1.5694e-02,  2.1046e-02,  7.8792e-03,\n",
            "         2.6103e-02,  4.3585e-02, -4.5630e-02,  6.2199e-04,  2.3283e-02,\n",
            "        -1.4150e-02,  7.0441e-02, -9.5396e-03, -2.0595e-02, -1.6301e-02,\n",
            "         3.7838e-02, -9.7080e-03,  2.6540e-02, -5.3150e-03,  1.8460e-02,\n",
            "        -4.4336e-02, -1.8007e-02, -4.7097e-02, -7.8558e-02,  2.1677e-02,\n",
            "        -3.4775e-02,  8.9600e-02, -1.3263e-02,  5.7135e-04,  7.7621e-03,\n",
            "        -6.6799e-02, -2.9922e-02,  2.4394e-02,  1.4945e-02,  8.0407e-03,\n",
            "         2.2875e-02, -6.9423e-02, -5.3433e-02,  3.2235e-02,  1.9115e-02,\n",
            "        -8.9546e-03,  4.0320e-03,  1.7504e-02, -1.8382e-02, -2.1803e-02,\n",
            "        -2.7129e-02,  3.0633e-04,  3.6025e-03,  2.6762e-02,  1.5215e-02,\n",
            "        -1.9191e-02,  1.3877e-02,  2.5862e-02, -1.2590e-03,  1.6585e-02,\n",
            "         9.8498e-04, -2.7614e-02,  2.1613e-02,  3.5510e-02,  1.1672e-02,\n",
            "         6.4772e-02,  2.6668e-02,  2.1698e-02, -4.6244e-02,  4.2642e-02,\n",
            "        -6.7843e-02, -1.1381e-03, -5.7685e-02,  3.3310e-02,  4.8868e-03,\n",
            "         9.4886e-02, -8.8125e-03, -1.4205e-03,  2.5855e-02, -1.0212e-02,\n",
            "        -1.1417e-01, -3.1905e-02,  3.0657e-02, -7.5589e-02,  1.3874e-03,\n",
            "        -7.2269e-03,  3.0767e-02, -6.3954e-02, -4.7183e-02,  1.6656e-02,\n",
            "        -4.0937e-02,  1.9713e-04,  1.6715e-02, -9.1475e-03, -1.5480e-03,\n",
            "        -1.8697e-02, -2.6354e-03,  4.1979e-02,  1.1714e-03, -2.1468e-02,\n",
            "         3.8434e-03, -5.9992e-03, -2.9836e-02,  7.0224e-02,  5.5205e-03,\n",
            "         1.5939e-02, -4.4156e-02, -4.3331e-02,  6.2840e-02,  1.6828e-02,\n",
            "         4.7872e-02, -2.0644e-03,  4.9286e-03, -2.0543e-02,  7.3941e-04,\n",
            "         8.2052e-02,  2.5812e-02, -6.3968e-03,  1.6291e-02, -6.1041e-02,\n",
            "        -7.3666e-02, -2.5091e-02,  2.1829e-02,  2.1051e-02, -6.7950e-03,\n",
            "        -6.5356e-02, -4.4895e-02,  1.2193e-02, -1.1136e-02, -1.1907e-03,\n",
            "        -3.0656e-03, -1.5383e-02,  3.7257e-02,  6.7397e-03,  2.9713e-02,\n",
            "         1.8575e-02,  2.6940e-02, -2.0493e-02, -2.2736e-02, -1.1043e-02,\n",
            "         1.9936e-02,  4.2279e-02,  1.0028e-02, -3.4281e-02,  2.8163e-02,\n",
            "         2.2598e-04,  6.2848e-03, -1.5395e-02, -2.8811e-02, -1.7309e-02,\n",
            "         1.0091e-02,  3.7508e-03,  4.0217e-03,  1.9226e-02,  8.5464e-02,\n",
            "        -6.7595e-03,  1.2096e-02,  8.3620e-02, -4.1825e-02, -6.9121e-02,\n",
            "         5.2026e-02, -1.1641e-02, -5.2839e-03,  3.0273e-02,  2.2526e-02,\n",
            "        -5.9804e-02,  7.1300e-02, -7.1694e-02, -2.8701e-02,  6.4038e-02,\n",
            "        -2.5150e-02, -3.3075e-02, -3.4163e-02, -4.6517e-03, -2.9046e-02,\n",
            "        -4.0967e-02, -5.6253e-03,  8.0587e-02, -1.5670e-02,  1.4903e-02,\n",
            "         2.0680e-02, -1.8838e-02, -7.8355e-03, -6.8496e-03, -1.1864e-02,\n",
            "        -2.6472e-02,  9.4223e-03,  3.3332e-02,  1.4490e-02, -6.2593e-02,\n",
            "        -8.3735e-03,  8.2392e-02,  2.3558e-02, -1.3706e-02,  1.9854e-02,\n",
            "        -3.2886e-03,  2.9177e-02,  3.4347e-02,  7.6626e-03, -2.7821e-02,\n",
            "        -2.7860e-02, -4.6736e-03, -4.8097e-02,  1.0347e-02, -2.6698e-02,\n",
            "         4.2321e-02,  2.3199e-02,  1.4114e-02,  2.5506e-02,  1.5690e-02,\n",
            "        -2.5469e-02,  3.5062e-02, -2.7875e-02,  3.3892e-02, -2.9138e-02,\n",
            "         6.6366e-02, -2.6577e-02,  7.8595e-03, -3.9187e-04,  3.3567e-02,\n",
            "         2.0296e-02,  7.1442e-02,  9.3200e-02, -3.9307e-02,  5.1892e-02,\n",
            "         1.4001e-02,  3.0504e-02, -7.2818e-03,  7.2071e-03,  1.7003e-02,\n",
            "         4.2215e-02,  1.4588e-02,  4.1706e-03, -1.2333e-02, -1.7764e-02,\n",
            "         8.0293e-03, -3.2854e-02, -9.3563e-02,  4.1327e-02, -6.3865e-02,\n",
            "         4.9005e-02, -5.4831e-02, -2.5632e-02, -2.9806e-02, -3.0706e-02,\n",
            "         5.1891e-03,  6.0202e-02,  2.1639e-02,  1.9039e-02,  4.4034e-02,\n",
            "        -7.5438e-02,  6.7493e-02,  3.8162e-02, -6.0112e-02, -2.1081e-02,\n",
            "         5.7188e-02,  1.8933e-02, -5.0350e-02, -3.5654e-03,  4.0490e-04,\n",
            "         7.9072e-03, -3.9899e-03, -1.3087e-02,  5.6272e-02,  3.3170e-02,\n",
            "         4.8352e-02, -2.1361e-02, -1.2949e-02,  2.8116e-03, -2.1509e-03,\n",
            "         2.2318e-04, -2.6619e-02,  1.3192e-02,  2.9927e-02,  5.8108e-02,\n",
            "        -3.7190e-02,  5.7795e-02, -6.0819e-03, -5.1938e-02, -1.7549e-02,\n",
            "         4.4292e-02,  4.5658e-02,  8.1696e-02, -5.8222e-02,  4.7915e-04,\n",
            "         1.6107e-02, -1.8528e-02, -5.3226e-02, -5.0676e-02,  5.3493e-02,\n",
            "         8.4159e-02,  6.5315e-02,  2.4451e-02,  3.4094e-02,  4.5717e-02,\n",
            "         1.6811e-02, -7.0361e-02, -6.4477e-02, -5.9146e-02,  6.8275e-02,\n",
            "        -2.6803e-02, -6.0765e-02,  4.0083e-03,  2.5851e-02, -5.4006e-03,\n",
            "        -4.1238e-02,  1.1180e-02, -4.8559e-02,  5.8900e-03, -4.2416e-02,\n",
            "        -4.9917e-02, -7.6566e-02,  2.2590e-02, -8.6130e-03,  5.6584e-03,\n",
            "         2.6336e-02, -1.8810e-02, -9.3771e-03,  3.8256e-02, -1.0771e-01,\n",
            "        -4.0255e-02, -1.6288e-02,  6.4956e-03, -1.1152e-02, -4.3642e-03,\n",
            "         1.9809e-02, -3.0450e-02, -3.9311e-02, -9.6392e-02, -2.0754e-02,\n",
            "         5.2375e-02, -4.2313e-03, -1.1122e-02,  6.4969e-02,  2.4422e-02,\n",
            "         5.5349e-02,  5.0966e-02, -2.1199e-02, -3.1153e-02,  3.1674e-02,\n",
            "        -2.5675e-02, -4.4603e-02, -3.3667e-02, -1.4452e-02, -1.6639e-02,\n",
            "        -7.7126e-02, -1.5921e-02])\n",
            "\n"
          ]
        }
      ]
    },
    {
      "cell_type": "code",
      "source": [
        "# Look at the size of the sentence embeddings\n",
        "print(embeddings.shape)"
      ],
      "metadata": {
        "colab": {
          "base_uri": "https://localhost:8080/"
        },
        "id": "a9JQKXl7NRNy",
        "outputId": "1254a436-3d29-4077-88f5-95fa61154c9c"
      },
      "execution_count": 3,
      "outputs": [
        {
          "output_type": "stream",
          "name": "stdout",
          "text": [
            "torch.Size([3, 512])\n"
          ]
        }
      ]
    },
    {
      "cell_type": "markdown",
      "source": [
        "When running `embeddings.shape`, you can see that we have three representations of size 512 from these sentences."
      ],
      "metadata": {
        "id": "VtNC_zzqNN7o"
      }
    },
    {
      "cell_type": "markdown",
      "source": [
        "## Semantic textual similarity\n",
        "\n",
        "We can then use these embeddings to compute how similar they are to each other. Since we have three embeddings in the same space, we can do this relatively simply by using cosine similarity."
      ],
      "metadata": {
        "id": "fE2BwfRwSKXJ"
      }
    },
    {
      "cell_type": "code",
      "source": [
        "# Adding a few more sentences for comparison\n",
        "sentences2 = ['Y aquí tenemos algunas oraciones más.', \n",
        "              'Es sólo para que puedan ser comparadas.', \n",
        "              'Och de ska skrivas på olika språk också.',\n",
        "              'And I will include some sentences of different lengths as well, so we can see how length affects the similarity.']\n",
        "              \n",
        "embeddings2 = model.encode(sentences2, convert_to_tensor=True)"
      ],
      "metadata": {
        "id": "tg3m5MZJUwxl"
      },
      "execution_count": 4,
      "outputs": []
    },
    {
      "cell_type": "code",
      "source": [
        "from sentence_transformers import util\n",
        "\n",
        "# Compute cosine similarity\n",
        "cosine_scores = util.cos_sim(embeddings, embeddings2)\n",
        "\n",
        "# Output the pairs with their score\n",
        "for i in range(len(sentences)):\n",
        "    print(f'Sentence 1: {sentences[i]} Sentence 2: {sentences2[i]} Score: {cosine_scores[i][i].item()}')\n",
        "    print()"
      ],
      "metadata": {
        "colab": {
          "base_uri": "https://localhost:8080/"
        },
        "id": "Ng5abgbVT2tO",
        "outputId": "a5ce5a2f-cedc-460e-e906-7aea80f54c5f"
      },
      "execution_count": 5,
      "outputs": [
        {
          "output_type": "stream",
          "name": "stdout",
          "text": [
            "Sentence 1: Here you can include sentences to embed. Sentence 2: Y aquí tenemos algunas oraciones más. Score: 0.39608627557754517\n",
            "\n",
            "Sentence 1: Se pueden escribir las oraciones en casi cualquier idioma. Sentence 2: Es sólo para que puedan ser comparadas. Score: 0.11861550807952881\n",
            "\n",
            "Sentence 1: Men kom ihåg att hålla listan någorlunda kort. Sentence 2: Och de ska skrivas på olika språk också. Score: 0.13186991214752197\n",
            "\n"
          ]
        }
      ]
    },
    {
      "cell_type": "markdown",
      "source": [
        "## Clustering\n",
        "\n",
        "These embeddings can also be clustered now. However, just a few sentences is not very exciting, so we can download a few book chapters to use for clustering instead. "
      ],
      "metadata": {
        "id": "JltrJLpHXIaQ"
      }
    },
    {
      "cell_type": "code",
      "source": [
        "!wget https://raw.githubusercontent.com/claire-dickerson/guestlecture/main/fine_literature.txt"
      ],
      "metadata": {
        "colab": {
          "base_uri": "https://localhost:8080/"
        },
        "id": "yY6HJ2Jdecr7",
        "outputId": "5323bff2-b543-4687-f56c-4686668d3821"
      },
      "execution_count": 6,
      "outputs": [
        {
          "output_type": "stream",
          "name": "stdout",
          "text": [
            "--2022-05-23 11:41:26--  https://raw.githubusercontent.com/claire-dickerson/guestlecture/main/fine_literature.txt\n",
            "Resolving raw.githubusercontent.com (raw.githubusercontent.com)... 185.199.110.133, 185.199.111.133, 185.199.108.133, ...\n",
            "Connecting to raw.githubusercontent.com (raw.githubusercontent.com)|185.199.110.133|:443... connected.\n",
            "HTTP request sent, awaiting response... 200 OK\n",
            "Length: 143414 (140K) [text/plain]\n",
            "Saving to: ‘fine_literature.txt.1’\n",
            "\n",
            "fine_literature.txt 100%[===================>] 140.05K  --.-KB/s    in 0.01s   \n",
            "\n",
            "2022-05-23 11:41:26 (11.4 MB/s) - ‘fine_literature.txt.1’ saved [143414/143414]\n",
            "\n"
          ]
        }
      ]
    },
    {
      "cell_type": "markdown",
      "source": [
        "First some basic text processing"
      ],
      "metadata": {
        "id": "JeNcLQMnfoEV"
      }
    },
    {
      "cell_type": "code",
      "source": [
        "text = []\n",
        "with open('fine_literature.txt') as infile: \n",
        "    for line in infile:\n",
        "        line = line.strip()\n",
        "        if line == '':\n",
        "            continue\n",
        "        else:\n",
        "            text.append(line)\n",
        "\n",
        "print(f'{len(text)} lines in corpus.')"
      ],
      "metadata": {
        "colab": {
          "base_uri": "https://localhost:8080/"
        },
        "id": "P99OBLvjc_cL",
        "outputId": "3346f536-a5c2-45bb-8cf5-49939e87c40f"
      },
      "execution_count": 7,
      "outputs": [
        {
          "output_type": "stream",
          "name": "stdout",
          "text": [
            "1042 lines in corpus.\n"
          ]
        }
      ]
    },
    {
      "cell_type": "markdown",
      "source": [
        "Then embedding the sentences. Calculating the semantic textual similarity of the texts is not necessary, but it can give us an insight into what our data looks like."
      ],
      "metadata": {
        "id": "lzjyxpUufsi7"
      }
    },
    {
      "cell_type": "code",
      "source": [
        "embeddings = model.encode(text, convert_to_tensor=True)\n",
        "\n",
        "# Compute cosine similarities for corpus\n",
        "cosine_scores = util.cos_sim(embeddings, embeddings)\n",
        "\n",
        "# Find pairs with highest cosine similarity scores\n",
        "pairs = []\n",
        "for i in range(len(cosine_scores)-1):\n",
        "    for j in range(i+1, len(cosine_scores)):\n",
        "        pairs.append({'index': [i, j], 'score': cosine_scores[i][j]})\n",
        "\n",
        "# Sort scores in decreasing order\n",
        "pairs = sorted(pairs, key=lambda x: x['score'], reverse=True)\n",
        "\n",
        "# Print top 10 most similar pairs\n",
        "for pair in pairs[:50]:\n",
        "    i, j = pair['index']\n",
        "    print(f\"Sentence 1: {text[i]} \\nSentence 2: {text[j]} \\nScore: {pair['score'].item()}\")\n",
        "    print()"
      ],
      "metadata": {
        "colab": {
          "base_uri": "https://localhost:8080/"
        },
        "id": "2bZhHzKIalic",
        "outputId": "bfea2033-a36a-4f7b-a8ab-be4fea38b51b"
      },
      "execution_count": 8,
      "outputs": [
        {
          "output_type": "stream",
          "name": "stdout",
          "text": [
            "Sentence 1: \"Yes.\" \n",
            "Sentence 2: \"Yes.\" \n",
            "Score: 1.0000004768371582\n",
            "\n",
            "Sentence 1: \"Yes.\" \n",
            "Sentence 2: \"Yes.\" \n",
            "Score: 1.0000004768371582\n",
            "\n",
            "Sentence 1: \"Yes.\" \n",
            "Sentence 2: \"Yes.\" \n",
            "Score: 1.0000004768371582\n",
            "\n",
            "Sentence 1: \"No.\" \n",
            "Sentence 2: \"No.\" \n",
            "Score: 1.0000003576278687\n",
            "\n",
            "Sentence 1: \"What?\" \n",
            "Sentence 2: \"What?\" \n",
            "Score: 1.000000238418579\n",
            "\n",
            "Sentence 1: Mom, \n",
            "Sentence 2: Mom, \n",
            "Score: 0.9999998211860657\n",
            "\n",
            "Sentence 1: \"Thanks.\" \n",
            "Sentence 2: \"Thanks.\" \n",
            "Score: 0.9999997019767761\n",
            "\n",
            "Sentence 1: \"No.\" \n",
            "Sentence 2: \"Nope.\" \n",
            "Score: 0.9948244094848633\n",
            "\n",
            "Sentence 1: \"No.\" \n",
            "Sentence 2: \"Nope.\" \n",
            "Score: 0.9948244094848633\n",
            "\n",
            "Sentence 1: \"Yeah.\" \n",
            "Sentence 2: \"Yes.\" \n",
            "Score: 0.9829349517822266\n",
            "\n",
            "Sentence 1: \"Yeah.\" \n",
            "Sentence 2: \"Yes.\" \n",
            "Score: 0.9829349517822266\n",
            "\n",
            "Sentence 1: \"Yeah.\" \n",
            "Sentence 2: \"Yes.\" \n",
            "Score: 0.9829349517822266\n",
            "\n",
            "Sentence 1: \"No.\" \n",
            "Sentence 2: \"Yes.\" \n",
            "Score: 0.9242275953292847\n",
            "\n",
            "Sentence 1: \"No.\" \n",
            "Sentence 2: \"Yes.\" \n",
            "Score: 0.9242275953292847\n",
            "\n",
            "Sentence 1: \"No.\" \n",
            "Sentence 2: \"Yes.\" \n",
            "Score: 0.9242275953292847\n",
            "\n",
            "Sentence 1: \"Yes.\" \n",
            "Sentence 2: \"No.\" \n",
            "Score: 0.9242275953292847\n",
            "\n",
            "Sentence 1: \"No.\" \n",
            "Sentence 2: \"Yes.\" \n",
            "Score: 0.9242275953292847\n",
            "\n",
            "Sentence 1: \"No.\" \n",
            "Sentence 2: \"Yes.\" \n",
            "Score: 0.9242275953292847\n",
            "\n",
            "Sentence 1: \"Yes.\" \n",
            "Sentence 2: \"Nope.\" \n",
            "Score: 0.9148728847503662\n",
            "\n",
            "Sentence 1: \"Yes.\" \n",
            "Sentence 2: \"Nope.\" \n",
            "Score: 0.9148728847503662\n",
            "\n",
            "Sentence 1: \"Nope.\" \n",
            "Sentence 2: \"Yes.\" \n",
            "Score: 0.9148728847503662\n",
            "\n",
            "Sentence 1: \"No.\" \n",
            "Sentence 2: \"Yeah.\" \n",
            "Score: 0.8924193382263184\n",
            "\n",
            "Sentence 1: \"Yeah.\" \n",
            "Sentence 2: \"No.\" \n",
            "Score: 0.8924193382263184\n",
            "\n",
            "Sentence 1: \"Yeah.\" \n",
            "Sentence 2: \"Nope.\" \n",
            "Score: 0.8854594826698303\n",
            "\n",
            "Sentence 1: \"Er, what?\" I asked, dazed. \n",
            "Sentence 2: \"What?\" I asked. \n",
            "Score: 0.8771328926086426\n",
            "\n",
            "Sentence 1: \"Then why -\" \n",
            "Sentence 2: \"Because... ?\" \n",
            "Score: 0.864962100982666\n",
            "\n",
            "Sentence 1: \"Very.\" \n",
            "Sentence 2: \"Yeah.\" \n",
            "Score: 0.8512317538261414\n",
            "\n",
            "Sentence 1: \"I'm Mike.\" \n",
            "Sentence 2: \"Hi, Mike.\" \n",
            "Score: 0.8504990339279175\n",
            "\n",
            "Sentence 1: \"Because... ?\" \n",
            "Sentence 2: \"Why not?\" \n",
            "Score: 0.8402040004730225\n",
            "\n",
            "Sentence 1: \"Bella,\" my mom wrote... \n",
            "Sentence 2: \"Bella,\" she wrote... \n",
            "Score: 0.8390823602676392\n",
            "\n",
            "Sentence 1: \"Hi, Bella.\" \n",
            "Sentence 2: \"Yeah, Bella?\" \n",
            "Score: 0.8373225927352905\n",
            "\n",
            "Sentence 1: \"Very.\" \n",
            "Sentence 2: \"Yes.\" \n",
            "Score: 0.8362319469451904\n",
            "\n",
            "Sentence 1: \"Very.\" \n",
            "Sentence 2: \"Yes.\" \n",
            "Score: 0.8362319469451904\n",
            "\n",
            "Sentence 1: \"Very.\" \n",
            "Sentence 2: \"Yes.\" \n",
            "Score: 0.8362319469451904\n",
            "\n",
            "Sentence 1: I smiled tentatively. \"Thanks.\" \n",
            "Sentence 2: \"Thanks.\" I smiled at him. \n",
            "Score: 0.8334908485412598\n",
            "\n",
            "Sentence 1: \"Sorry.\" \n",
            "Sentence 2: \"I'm sorry,\" I mumbled. \n",
            "Score: 0.8242151737213135\n",
            "\n",
            "Sentence 1: \"Then why -\" \n",
            "Sentence 2: \"Why not?\" \n",
            "Score: 0.8140010237693787\n",
            "\n",
            "Sentence 1: \"No.\" \n",
            "Sentence 2: \"Very.\" \n",
            "Score: 0.8023796081542969\n",
            "\n",
            "Sentence 1: \"Very.\" \n",
            "Sentence 2: \"No.\" \n",
            "Score: 0.8023796081542969\n",
            "\n",
            "Sentence 1: He was astonished. He stared at me in disbelief. \n",
            "Sentence 2: I looked up at him, bewildered. \n",
            "Score: 0.7965457439422607\n",
            "\n",
            "Sentence 1: \"No.\" \n",
            "Sentence 2: \"None.\" \n",
            "Score: 0.7959691882133484\n",
            "\n",
            "Sentence 1: \"No.\" \n",
            "Sentence 2: \"None.\" \n",
            "Score: 0.7959691882133484\n",
            "\n",
            "Sentence 1: He smiled apologetically. \n",
            "Sentence 2: He chuckled. \n",
            "Score: 0.7837402820587158\n",
            "\n",
            "Sentence 1: \"One.\" \n",
            "Sentence 2: \"None.\" \n",
            "Score: 0.783057689666748\n",
            "\n",
            "Sentence 1: He was astonished. He stared at me in disbelief. \n",
            "Sentence 2: He was staring at me with an unfathomable expression. \n",
            "Score: 0.7828112244606018\n",
            "\n",
            "Sentence 1: \"No,\" I said, flushing. \"I'll go ahead.\" \n",
            "Sentence 2: \"No,\" I groaned. \"Go away.\" \n",
            "Score: 0.781493067741394\n",
            "\n",
            "Sentence 1: \"Very.\" \n",
            "Sentence 2: \"Nope.\" \n",
            "Score: 0.7809634208679199\n",
            "\n",
            "Sentence 1: \"Bella? Are you all right?\" \n",
            "Sentence 2: \"Yeah, Bella?\" \n",
            "Score: 0.7801589965820312\n",
            "\n",
            "Sentence 1: \"What?\" \n",
            "Sentence 2: \"What?\" I asked. \n",
            "Score: 0.7771649956703186\n",
            "\n",
            "Sentence 1: \"What?\" I asked. \n",
            "Sentence 2: \"What?\" \n",
            "Score: 0.7771649956703186\n",
            "\n"
          ]
        }
      ]
    },
    {
      "cell_type": "markdown",
      "source": [
        "We'll need UMAP to reduce the dimensionality of the embeddings for clustering, and HDBSCAN will be our clustering algorithm. \n",
        "\n",
        "**An important note is that due to how the UMAP algorithm works, the embeddings are not the same every time they are run, so you might receive slightly different results if you run the notebook multiple times."
      ],
      "metadata": {
        "id": "UE586ED8gFsS"
      }
    },
    {
      "cell_type": "code",
      "source": [
        "try:\n",
        "    import umap\n",
        "except:\n",
        "    !pip install umap-learn\n",
        "finally:\n",
        "    import umap\n",
        "\n",
        "umap_embeddings = umap.UMAP(n_neighbors=10, \n",
        "                            n_components=3, \n",
        "                            metric='cosine').fit_transform(embeddings)"
      ],
      "metadata": {
        "colab": {
          "base_uri": "https://localhost:8080/"
        },
        "id": "MEHaM6k5gByr",
        "outputId": "1ca89b0d-0aa3-4798-dfb1-927824fd37b5"
      },
      "execution_count": 9,
      "outputs": [
        {
          "output_type": "stream",
          "name": "stderr",
          "text": [
            "/usr/local/lib/python3.7/dist-packages/numba/np/ufunc/parallel.py:363: NumbaWarning: The TBB threading layer requires TBB version 2019.5 or later i.e., TBB_INTERFACE_VERSION >= 11005. Found TBB_INTERFACE_VERSION = 9107. The TBB threading layer is disabled.\n",
            "  warnings.warn(problem)\n"
          ]
        }
      ]
    },
    {
      "cell_type": "code",
      "source": [
        "try:\n",
        "    import hdbscan\n",
        "except:\n",
        "    !pip install hdbscan\n",
        "finally: \n",
        "    import hdbscan\n",
        "\n",
        "cluster = hdbscan.HDBSCAN(min_cluster_size=10,\n",
        "                          metric='euclidean',                      \n",
        "                          cluster_selection_method='eom').fit(umap_embeddings)"
      ],
      "metadata": {
        "id": "yYfu3Oo3gDyZ"
      },
      "execution_count": 10,
      "outputs": []
    },
    {
      "cell_type": "code",
      "source": [
        "import matplotlib.pyplot as plt\n",
        "import pandas as pd\n",
        "\n",
        "# Prepare data\n",
        "umap_data = umap.UMAP(n_neighbors=10, n_components=2, min_dist=0.0, metric='cosine').fit_transform(embeddings)\n",
        "result = pd.DataFrame(umap_data, columns=['x', 'y'])\n",
        "result['labels'] = cluster.labels_\n",
        "\n",
        "# Visualize clusters\n",
        "fig, ax = plt.subplots(figsize=(20, 10))\n",
        "outliers = result.loc[result.labels == -1, :]\n",
        "clustered = result.loc[result.labels != -1, :]\n",
        "plt.scatter(outliers.x, outliers.y, s=1)\n",
        "plt.scatter(clustered.x, clustered.y, c=clustered.labels, s=1, cmap='hsv_r')"
      ],
      "metadata": {
        "colab": {
          "base_uri": "https://localhost:8080/",
          "height": 609
        },
        "id": "SwyBBdBTgloH",
        "outputId": "293f7285-0152-4987-e12a-7594beb0c60d"
      },
      "execution_count": 11,
      "outputs": [
        {
          "output_type": "execute_result",
          "data": {
            "text/plain": [
              "<matplotlib.collections.PathCollection at 0x7f37ad81e050>"
            ]
          },
          "metadata": {},
          "execution_count": 11
        },
        {
          "output_type": "display_data",
          "data": {
            "text/plain": [
              "<Figure size 1440x720 with 1 Axes>"
            ],
            "image/png": "[encoded data removed]"
          },
          "metadata": {
            "needs_background": "light"
          }
        }
      ]
    },
    {
      "cell_type": "markdown",
      "source": [
        "We have some visualizations! We're only working with around 1000 lines, so the hyperparameters for UMAP and HDBSCAN are relatively low. If you try with more data, you might have to adjust the original UMAP embeddings and HDBSCAN clusters to retrieve more satisfying clusters."
      ],
      "metadata": {
        "id": "PtBtFKUVlCQH"
      }
    },
    {
      "cell_type": "markdown",
      "source": [
        "Topic modeling---retrieving the influential words from each cluster---is a separate task, but we can at least take a look at five of the sentences from each cluster. "
      ],
      "metadata": {
        "id": "xAZqElfEqIGE"
      }
    },
    {
      "cell_type": "code",
      "source": [
        "clusters = {}\n",
        "\n",
        "for i, label in enumerate(result['labels'].tolist()):\n",
        "    if label in clusters:\n",
        "        clusters[label].append(i)\n",
        "    else:\n",
        "        clusters[label] = [i]  \n",
        "\n",
        "print(f\"{len(clusters)-1} clusters were extracted from the texts\\n\")\n",
        "\n",
        "for i in range(len(clusters)-1):\n",
        "    print(f\"Cluster {i}:\")\n",
        "    for j in range(5):\n",
        "        print(f\"{text[clusters[i][j]]}\")\n",
        "    print()"
      ],
      "metadata": {
        "colab": {
          "base_uri": "https://localhost:8080/"
        },
        "id": "yZp68xBFmC_7",
        "outputId": "d8d4d282-4f7b-4120-cdfd-1b30432f987c"
      },
      "execution_count": 12,
      "outputs": [
        {
          "output_type": "stream",
          "name": "stdout",
          "text": [
            "21 clusters were extracted from the texts\n",
            "\n",
            "Cluster 0:\n",
            "\"I'm Mike.\"\n",
            "\"Hi, Mike.\"\n",
            "\"He's a weird guy.\" Mike lingered by me instead of heading to the dressing room. \"If I were lucky enough to sit by you, I would have talked to you.\"\n",
            "\"Wow,\" Mike said. \"It's snowing.\"\n",
            "\"You have fun with Mike,\" I encouraged.\n",
            "\n",
            "Cluster 1:\n",
            "\"Bella,\" my mom said to me - the last of athousand times - before I goton the plane. \"You don't have to do this.\"\n",
            "\"Don't worry about me,\" I urged. \"It'll be great. I love you, Mom.\"\n",
            "\"My mother is part albino.\"\n",
            "\"How did your first day go, dear?\" the receptionist asked maternally.\n",
            "\"Bella,\" my mom wrote...\n",
            "\n",
            "Cluster 2:\n",
            "\"Really, Bella, the thing runs great. They don't build them like thatanymore.\"\n",
            "\"Aren't you Isabella Swan?\" a male voice asked.\n",
            "Isabella,\n",
            "\"Bella?\" my father called out when he heard me on the stairs.\n",
            "\"Smells good, Bell.\"\n",
            "\n",
            "Cluster 3:\n",
            "\"Who are they?\" I asked the girl from my Spanish class, whose name I'd forgotten.\n",
            "\"That's Edward and Emmett Cullen, and Rosalie and Jasper Hale. The one who left was Alice Cullen; they all live together with Dr. Cullen and his wife.\" She said this under her breath.\n",
            "\"Yes!\" Jessica agreed with another giggle. \"They're all together though - Emmett and Rosalie, and Jasper and Alice, I mean. And they live together.\" Her voice held all the shock and condemnation of the small town, I thought critically. But, if I was being honest, I had to admit that even in Phoenix, it would cause gossip.\n",
            "\"Which ones are the Cullens?\" I asked. \"They don't look related...\"\n",
            "\"Oh, they're not. Dr. Cullen is really young, in his twenties or early thirties. They're all adopted. The Hales are brother and sister, twins - the blondes - and they're foster children.\"\n",
            "\n",
            "Cluster 4:\n",
            "I had to check in my bag. \"Um, Government, with Jefferson, in building six.\"\n",
            "\"I'm headed toward building four, I could show you the way...\" Definitely over-helpful. \"I'm Eric,\" he added.\n",
            "\"That's Edward. He's gorgeous, of course, but don't waste your time. He doesn't date. Apparently none of the girls here are good-looking enough for him.\" She sniffed, a clear case of sour grapes. I wondered when he'd turned her down.\n",
            "Edward Cullen didn't come back to school.\n",
            "He just nodded, his eyes on Eric's retreating figure.\n",
            "\n",
            "Cluster 5:\n",
            "We sat at the end of a full table with several of her friends, who she introduced to me. I forgot all their names as soon as she spoke them. They seemed impressed by her bravery in speaking to me. The boy fromEnglish, Eric, waved at me from across the room.\n",
            "Strange, unpopular names, I thought. The kinds of names grandparents had. But maybe that was in vogue here - small town names? I finally remembered that my neighbor was called Jessica, a perfectly common name. There were two girls named Jessica in my History class back home.\n",
            "I sat at the table with Jessica and her friends longer than I would have if I'd been sitting alone. I was anxious not to be late for class on my first day. One of my new acquaintances, who considerately reminded me that her name was Angela, had Biology II with me the next hour. We walked to class together in silence. She was shy, too.\n",
            "When we entered the classroom, Angela went to sit at a black-topped lab table exactly like the ones I was used to. She already had a neighbor. In fact, all the tables were filled but one. Next to the center aisle, I recognized Edward Cullen by his unusual hair, sitting next to that single open seat.\n",
            "The class seemed to drag on longer than the others. Was it because the day was finally coming to a close, or because I was waiting for his tight fist to loosen? It never did; he continued to sit so still it looked like he wasn't breathing. What was wrong with him? Was this his normal behavior? I questioned my judgment on Jessica's bitterness at lunch today. Maybe she was not as resentful as I'd thought.\n",
            "\n",
            "Cluster 6:\n",
            "We walked back around the cafeteria, to the south buildings by the gym. Eric walked me right to the door, though it was clearly marked.\n",
            "After a few more minutes, the four of them left the table together. They all were noticeably graceful - even the big, brawny one. It was unsettling to watch. The one named Edward didn't look at me again.\n",
            "At that moment, the bell rang loudly, making me jump, and Edward Cullen was out of his seat. Fluidly he rose - he was much taller than I'd thought - his back to me, and he was out the door before anyone else was out of their seat.\n",
            "I cringed. So I wasn't the only one who had noticed. And, apparently, that wasn't Edward Cullen's usual behavior. I decided to play dumb.\n",
            "Edward Cullen stood at the desk in front of me. I recognized again that tousled bronze hair. He didn't appear to notice the sound of my entrance. I stood pressed against the back wall, waiting for the receptionist to be free.\n",
            "\n",
            "Cluster 7:\n",
            "\"I found a good car for you, really cheap,\" he announced when we werestrapped in.\n",
            "\"What kind of car?\" I was suspicious of the way he said \"good car foryou\" as opposed to just \"good car.\"\n",
            "\"Well, it's a truck actually, a Chevy.\"\n",
            "\"Ch - Dad, I don't really know anything about cars. I wouldn't be able to fix it if anything went wrong, and I couldn't afford a mechanic...\"\n",
            "Wow. Free. \"You didn't need to do that, Dad. I was going to buy myself a car.\"\n",
            "\n",
            "Cluster 8:\n",
            "\"Do you need any help finding your next class?\"\n",
            "\"That's my next class, too.\" He seemed thrilled, though it wasn't that big of a coincidence in a school this small.\n",
            "\"So, how did you like school? Have you made any friends?\" he asked as he was taking seconds.\n",
            "\"You really should stay away from me,\" he warned. \"I'll see you in class.\"\n",
            "\"I'm not going to class today,\" he said, twirling the lid so fast it was just a blur.\n",
            "\n",
            "Cluster 9:\n",
            "\"Fine,\" I lied, my voice weak. She didn't look convinced.\n",
            "\"Hello,\" said a quiet, musical voice.\n",
            "I kept my voice indifferent. \"May I?\"\n",
            "\"Last September.\" My voice sounded sad, even to me.\n",
            "\"I believe I have heard that somewhere before,\" he agreed dryly.\n",
            "\n",
            "Cluster 10:\n",
            "I would be the new girl from the big city, a curiosity, a freak. Maybe, if I looked like a girl from Phoenix should, I could work this tomy advantage. But physically, I'd never fit in anywhere. I should be tan,sporty, blond - a volleyball player, or a cheerleader, perhaps - all thethings that go with living in the valley of the sun.\n",
            "Instead, I was ivory-skinned, without even the excuse of blue eyes or red hair, despite the constant sunshine. I had always been slender, but soft somehow, obviously not an athlete; I didn't have the necessary hand-eye coordination to play sports without humiliating myself - and harming both myself and anyone else who stood too close.\n",
            "Facing my pallid reflection in the mirror, I was forced to admit that I was lying to myself. It wasn't just physically that I'd never fit in. And if I couldn't find a niche in a school with three thousand people, what were my chances here?\n",
            "The classroom was small. The people in front of me stopped just inside the door to hang up their coats on a long row of hooks. I copied them. They were two girls, one a porcelain-colored blonde, the other also pale, with light brown hair. At least my skin wouldn't be a standout here.\n",
            "I took the slip up to the teacher, a tall, balding man whose desk had a nameplate identifying him as Mr. Mason. He gawked at me when he saw my name - not an encouraging response - and of course I flushed tomato red. But at least he sent me to an empty desk at the back without introducing me to the class. It was harder for my new classmates to stare at me in the back, but somehow, they managed. I kept my eyes down on the reading list the teacher had given me. It was fairly basic: Bronte, Shakespeare,  Chaucer, Faulkner. I'd already read everything. That was comforting... and boring. I wondered if my mom would send me my folder of old essays, or if she would think that was cheating. I went through different arguments with her in my head while the teacher droned on.\n",
            "\n",
            "Cluster 11:\n",
            "But I could see the sacrifice in her eyes behind the promise.\n",
            "There was nowhere to look without meeting curious eyes.\n",
            "I looked through the eyepiece eagerly, only to be disappointed. Dang it, he was right.\n",
            "I took the most fleeting look I could manage.\n",
            "He shrugged, and looked away.\n",
            "\n",
            "Cluster 12:\n",
            "My mother drove me to the airport with thewindows rolled down. It was seventy-five degrees inPhoenix, the sky a perfect, cloudless blue. I waswearing my favorite shirt - sleeveless, white eyelet lace; I was wearingit as a farewell gesture. My carry-on item was a parka.\n",
            "When I landed in Port Angeles, it was raining. I didn't see it as an omen- just unavoidable. I'd already said my goodbyes to the sun.\n",
            "I had only a few bags. Most of my Arizona clothes were too permeable forWashington. My mom and I had pooled our resources to supplement my winter wardrobe, but it was still scanty. It all fit easily into the trunk ofthe cruiser.\n",
            "It was beautiful, of course; I couldn't deny that. Everything was green:the trees, their trunks covered with moss, their branches hanging with a canopy of it, the ground covered with ferns. Even the air filtered down greenly through the leaves.\n",
            "It was too green - an alien planet.\n",
            "\n",
            "Cluster 13:\n",
            "\"Tell Charlie I said hi.\"\n",
            "\"Mom's fine. It's good to see you, too, Dad.\" I wasn't allowed to callhim Charlie to his face.\n",
            "\"He used to go fishing with us during the summer,\" Charlie prompted.\n",
            "\"Well, honey, I kind of already bought it for you. As a homecoming gift.\" Charlie peeked sideways at me with a hopeful expression.\n",
            "\"I don't mind. I want you to be happy here.\" He was looking ahead at theroad when he said this. Charlie wasn't comfortable with expressing his emotions out loud. I inherited that from him. So I was looking straightahead as I responded.\n",
            "\n",
            "Cluster 14:\n",
            "Charlie had really been fairly nice about the whole thing. He seemedgenuinely pleased that I was coming to live with him for the first timewith any degree of permanence. He'd already gotten me registered for highschool and was going to help me get a car.\n",
            "But it was sure to be awkward with Charlie. Neither of us was what anyonewould call verbose, and I didn't know what there was to say regardless. I knew he was more than a little confused by my decision - like my motherbefore me, I hadn't made a secret of my distaste for Forks.\n",
            "Charlie was waiting for me with the cruiser. This I was expecting, too.Charlie is Police Chief Swan to the good people of Forks. My primarymotivation behind buying a car, despite the scarcity of my funds, wasthat I refused to be driven around town in a car with red and blue lightson top. Nothing slows down traffic like a cop.\n",
            "Eventually we made it to Charlie's. He still lived in the small,two-bedroom house that he'd bought with my mother in the early days oftheir marriage. Those were the only kind of days their marriage had - the early ones. There, parked on the street in front of the house that never changed, was my new - well, new to me - truck. It was a faded red color,with big, rounded fenders and a bulbous cab. To my intense surprise, I loved it. I didn't know if it would run, but I could see myself in it.Plus, it was one of those solid iron affairs that never gets damaged -the kind you see at the scene of an accident, paint unscratched, surrounded by the pieces of the foreign car it had destroyed.\n",
            "It took only one trip to get all my stuff upstairs. I got the westbedroom that faced out over the front yard. The room was familiar; it had been belonged to me since I was born. The wooden floor, the light blue walls, the peaked ceiling, the yellowed lace curtains around the window -these were all a part of my childhood. The only changes Charlie had ever made were switching the crib for a bed and adding a desk as I grew. Thedesk now held a secondhand computer, with the phone line for the modem stapled along the floor to the nearest phone jack. This was a stipulation from my mother, so that we could stay in touch easily. The rocking chair from my baby days was still in the corner.\n",
            "\n",
            "Cluster 15:\n",
            "I smiled at him vaguely and went inside.\n",
            "He laughed a soft, enchanting laugh.\n",
            "He smirked and pushed the microscope to me.\n",
            "He slouched off, back toward the school. I heard a low chuckle.\n",
            "He smiled briefly, and then his face became serious.\n",
            "\n",
            "Cluster 16:\n",
            "\"It's good to see you, Bells,\" he said, smiling as he automaticallycaught and steadied me.\n",
            "I bit my lip to hide my smile. Then I glanced at him again. His face was turned away, but I thought his cheek appeared lifted, as if he were smiling, too.\n",
            "\"Actually, I feel a little sick,\" I said, my eyes still on the floor.\n",
            "\"Or I could start, if you wish.\" The smile faded; he was obviously wondering if I was mentally competent.\n",
            "I smiled sheepishly. \"Not with onion root.\"\n",
            "\n",
            "Cluster 17:\n",
            "\"I don't know,\" I responded. \"I never spoke to him.\"\n",
            "\"H-how do you know my name?\" I stammered.\n",
            "\"Oh, I think everyone knows your name. The whole town's been waiting for you to arrive.\"\n",
            "\"You have no idea,\" I muttered darkly.\n",
            "\"It's all about who you know,\" he answered. \"But don't worry, I came to spring you.\"\n",
            "\n",
            "Cluster 18:\n",
            "\"I will.\"\n",
            "\"No.\"\n",
            "\"Very.\"\n",
            "\"Three or four times a year.\"\n",
            "\"No,\" I said, flushing. \"I'll go ahead.\"\n",
            "\n",
            "Cluster 19:\n",
            "\"Did he buy it new?\"\n",
            "\"Wow, what must that be like?\" he wondered.\n",
            "\"Have you done this lab before?\" he asked.\n",
            "No one had asked me that - not straight out like he did, demanding.\n",
            "\"So, what's the verdict?\" he asked me.\n",
            "\n",
            "Cluster 20:\n",
            "\"You haven't changed much. How's Ren¨¦e?\"\n",
            "\"Sunny,\" I told him.\n",
            "\"You don't look very tan.\"\n",
            "\"Ow,\" I said, surprised.\n",
            "\"Just stay put for now.\"\n",
            "\n"
          ]
        }
      ]
    }
  ]
}